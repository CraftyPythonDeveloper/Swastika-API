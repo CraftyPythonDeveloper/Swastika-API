{
 "cells": [
  {
   "cell_type": "code",
   "execution_count": 29,
   "id": "2ee23302",
   "metadata": {},
   "outputs": [],
   "source": [
    "import requests\n",
    "import pyotp\n",
    "import pandas as pd\n",
    "import time"
   ]
  },
  {
   "cell_type": "code",
   "execution_count": 39,
   "id": "0d2265c6",
   "metadata": {},
   "outputs": [],
   "source": [
    "CLIENT_CODE = \"\"\n",
    "MPIN = \"\"\n",
    "TOTP_KEY = \"\"\n",
    "BASE_URL = \"https://tradingorestapi.swastika.co.in\"\n",
    "SLEEP_TIME = 1\n",
    "\n",
    "gtt_orders_df = pd.read_excel(\"GTT_ORDERS.xlsx\", index_col=\"SN\")"
   ]
  },
  {
   "cell_type": "code",
   "execution_count": 40,
   "id": "7b24916a",
   "metadata": {},
   "outputs": [
    {
     "name": "stdout",
     "output_type": "stream",
     "text": [
      "login success\n"
     ]
    },
    {
     "data": {
      "text/plain": [
       "True"
      ]
     },
     "execution_count": 40,
     "metadata": {},
     "output_type": "execute_result"
    }
   ],
   "source": [
    "totp = pyotp.TOTP(TOTP_KEY)\n",
    "session = requests.Session()\n",
    "session.headers['Content-Type'] = 'application/json'\n",
    "\n",
    "\n",
    "def login():\n",
    "    time.sleep(SLEEP_TIME)\n",
    "    endpoint = \"/auth/TOTP/VerifyTotp\"\n",
    "    payload = {\"Totp\": totp.now(),\n",
    "               \"ClientCode\": CLIENT_CODE,\n",
    "               \"MPIN\": MPIN,\n",
    "               \"GenerationSourceTP\": \"RAJTP\",\n",
    "               \"IPAddress\": \"192.168.10\"}\n",
    "    \n",
    "    response = session.post(BASE_URL+endpoint, json=payload).json()\n",
    "    \n",
    "    if response[\"StatusCode\"] == 200:\n",
    "        session.headers['Authorization'] = f'Bearer {response[\"Result\"][\"Data\"][\"AccessToken\"]}'\n",
    "        print(\"login success\")\n",
    "        return True\n",
    "    \n",
    "    print(response)\n",
    "    return False\n",
    "\n",
    "\n",
    "def get_gtt_ids():\n",
    "    \"\"\"\n",
    "    Function to get all the ids of active gtt orders\n",
    "    \"\"\"\n",
    "    time.sleep(SLEEP_TIME)\n",
    "    endpoint = \"/kb/GTTOrders/GetPendingGTTOrder\"\n",
    "    payload = {\"Uid\": CLIENT_CODE}\n",
    "    response = session.post(BASE_URL+endpoint, json=payload).json()\n",
    "#     return response\n",
    "    if response[\"StatusCode\"] == 200:\n",
    "        return [i[\"Al_id\"] for i in response[\"Result\"][\"Data\"]]\n",
    "    print(response)\n",
    "    return []\n",
    "\n",
    "\n",
    "def place_gtt_order(symbol, order_type, quantity, price, trigger_price, exchange=\"NSE\", trigger_dir=None, **kwargs):\n",
    "    \"\"\"\n",
    "    Function to place the GTT order\n",
    "    \"\"\"\n",
    "    time.sleep(SLEEP_TIME)\n",
    "    endpoint = \"/kb/GTTOrders/PlaceGTTOrder\"\n",
    "\n",
    "    if not trigger_dir:\n",
    "        if order_type.lower() == \"sell\":\n",
    "            trigger_dir = \"LTP_A_O\"\n",
    "        else:\n",
    "            trigger_dir = \"LTP_B_O\"\n",
    "    \n",
    "    payload = {\n",
    "                \"Uid\": str(CLIENT_CODE),\n",
    "                \"Actid\": str(CLIENT_CODE),\n",
    "                \"Tsym\": str(symbol),\n",
    "                \"Exch\": str(exchange),\n",
    "                \"Ai_t\": str(trigger_dir),\n",
    "                \"Validity\": \"GTT\",\n",
    "                \"D\": str(trigger_price),\n",
    "                \"Remarks\": kwargs.pop(\"remarks\", \"RAJTP\"),\n",
    "                \"Trantype\": order_type,\n",
    "                \"Prctyp\": kwargs.pop(\"prc_type\", \"MKT\"),\n",
    "                \"Prd\": \"C\",\n",
    "                \"Ret\": kwargs.pop(\"RET\", \"DAY\"),\n",
    "                \"Qty\": str(quantity),\n",
    "                \"Prc\": str(price),\n",
    "            }\n",
    "    \n",
    "    response = session.post(BASE_URL+endpoint, json=payload).json()\n",
    "    \n",
    "    if response[\"StatusCode\"] == 200:\n",
    "        print(response[\"Result\"][\"ResponseMessage\"], f\"for {symbol}\")\n",
    "        return response[\"Result\"][\"Data\"][\"Al_id\"]\n",
    "    \n",
    "    print(response)\n",
    "    return False\n",
    "\n",
    "\n",
    "def delete_gtt_orders(gtt_id):\n",
    "    \"\"\"\n",
    "    Function to delete GTT orders\n",
    "    \"\"\"\n",
    "    time.sleep(SLEEP_TIME)\n",
    "    endpoint = \"/kb/GTTOrders/CancelGTTOrder\"\n",
    "    payload = {\n",
    "                 \"Uid\": CLIENT_CODE,\n",
    "                 \"Al_id\": str(gtt_id)\n",
    "              }\n",
    "    response = session.post(BASE_URL+endpoint, json=payload).json()\n",
    "    if response[\"StatusCode\"] != 200:\n",
    "        print(response)\n",
    "        return False\n",
    "    print(\"Deleted \", gtt_id)\n",
    "    return response\n",
    "\n",
    "login()"
   ]
  },
  {
   "cell_type": "code",
   "execution_count": 41,
   "id": "68141008",
   "metadata": {},
   "outputs": [
    {
     "name": "stdout",
     "output_type": "stream",
     "text": [
      "Deleted \n",
      "Deleted \n",
      "Deleted \n",
      "Deleted \n",
      "Order placed successfully for YESBANK-EQ\n",
      "Order placed successfully for COFORGE-EQ\n",
      "Order placed successfully for HDFCBANK-EQ\n",
      "Order placed successfully for SBIN-EQ\n"
     ]
    }
   ],
   "source": [
    "# delete existing GTT orders..\n",
    "_ = [delete_gtt_orders(sym) for sym in get_gtt_ids()]\n",
    "\n",
    "print(\"\\n\\n\")\n",
    "\n",
    "# Place new gtt orders..\n",
    "order_ids = []\n",
    "for row in gtt_orders_df.itertuples():\n",
    "    aid = place_gtt_order(symbol=row.SYMBOL, order_type=row.ORDER_TYPE, quantity=row.QUANTITY, price=row.PRICE,\n",
    "                          trigger_price=row.TRIGGER_PRICE, exchange=row.EXCHANGE)\n",
    "    order_ids.append(aid)"
   ]
  },
  {
   "cell_type": "code",
   "execution_count": null,
   "id": "aa5d3d66",
   "metadata": {},
   "outputs": [],
   "source": []
  },
  {
   "cell_type": "code",
   "execution_count": null,
   "id": "1b37c769",
   "metadata": {},
   "outputs": [],
   "source": []
  }
 ],
 "metadata": {
  "kernelspec": {
   "display_name": "Python 3 (ipykernel)",
   "language": "python",
   "name": "python3"
  },
  "language_info": {
   "codemirror_mode": {
    "name": "ipython",
    "version": 3
   },
   "file_extension": ".py",
   "mimetype": "text/x-python",
   "name": "python",
   "nbconvert_exporter": "python",
   "pygments_lexer": "ipython3",
   "version": "3.9.13"
  }
 },
 "nbformat": 4,
 "nbformat_minor": 5
}
